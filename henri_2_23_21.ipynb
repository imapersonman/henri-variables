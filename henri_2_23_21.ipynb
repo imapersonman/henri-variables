{
 "metadata": {
  "language_info": {
   "codemirror_mode": {
    "name": "ipython",
    "version": 3
   },
   "file_extension": ".py",
   "mimetype": "text/x-python",
   "name": "python",
   "nbconvert_exporter": "python",
   "pygments_lexer": "ipython3",
   "version": "3.8.5-final"
  },
  "orig_nbformat": 2,
  "kernelspec": {
   "name": "python3",
   "display_name": "Python 3.8.5 64-bit",
   "metadata": {
    "interpreter": {
     "hash": "082e9a3bcad0a290d0001e938aa60b99250c6c2ef33a923c00b70f9826caf4b7"
    }
   }
  }
 },
 "nbformat": 4,
 "nbformat_minor": 2,
 "cells": [
  {
   "cell_type": "code",
   "execution_count": 30,
   "metadata": {},
   "outputs": [],
   "source": [
    "from henri_2_23_21 import questions\n",
    "from Expression import Var, Int, Plus, Minus, Equals, Times\n",
    "from QuestionMachine import QuestionMachine"
   ]
  },
  {
   "cell_type": "code",
   "execution_count": 31,
   "metadata": {},
   "outputs": [],
   "source": [
    "qm = QuestionMachine(questions)"
   ]
  },
  {
   "cell_type": "code",
   "execution_count": 32,
   "metadata": {},
   "outputs": [
    {
     "output_type": "execute_result",
     "data": {
      "text/plain": [
       "Rewrite the expression '3 * r' in '21 + (3 * r)' for r = 1"
      ]
     },
     "metadata": {},
     "execution_count": 32
    }
   ],
   "source": [
    "qm.ask()"
   ]
  },
  {
   "cell_type": "code",
   "execution_count": 33,
   "metadata": {},
   "outputs": [
    {
     "output_type": "stream",
     "name": "stdout",
     "text": [
      "Question: Rewrite the expression '3 * r' in '21 + (3 * r)' for r = 1\nAnswer: 21 + 3\nCorrect!\n\nNext Question: Rewrite the expression '21 + 3' in '21 + 3'\n"
     ]
    }
   ],
   "source": [
    "expr = Plus(Int(21), Times(Int(3), Var(\"r\")))\n",
    "mod_expr = expr.substitute(Var(\"r\"), Int(1)).rewrite_subexpression(Times(Int(3), Int(1)), Int(3))\n",
    "qm.check(mod_expr)"
   ]
  },
  {
   "cell_type": "code",
   "execution_count": 34,
   "metadata": {},
   "outputs": [
    {
     "output_type": "stream",
     "name": "stdout",
     "text": [
      "Question: Rewrite the expression '21 + 3' in '21 + 3'\nAnswer: 24\nCorrect!\n\nNext Question: Rewrite the expression '3 * r' in '21 + (3 * r)' for r = 2\n"
     ]
    }
   ],
   "source": [
    "a1 = mod_expr.rewrite_subexpression(mod_expr, Int(24))\n",
    "qm.check(a1)"
   ]
  },
  {
   "cell_type": "code",
   "execution_count": 35,
   "metadata": {},
   "outputs": [
    {
     "output_type": "stream",
     "name": "stdout",
     "text": [
      "Question: Rewrite the expression '3 * r' in '21 + (3 * r)' for r = 2\nAnswer: 21 + 6\nCorrect!\n\nNext Question: Rewrite the expression '21 + 6' in '21 + 6'\n"
     ]
    }
   ],
   "source": [
    "mod_expr = expr.substitute(Var(\"r\"), Int(2)).rewrite_subexpression(Times(Int(3), Int(2)), Int(6))\n",
    "qm.check(mod_expr)"
   ]
  },
  {
   "cell_type": "code",
   "execution_count": 36,
   "metadata": {},
   "outputs": [
    {
     "output_type": "stream",
     "name": "stdout",
     "text": [
      "Question: Rewrite the expression '21 + 6' in '21 + 6'\nAnswer: 27\nCorrect!\n\nNext Question: Rewrite the expression '3 * r' in '21 + (3 * r)' for r = 3\n"
     ]
    }
   ],
   "source": [
    "a2 = mod_expr.rewrite_subexpression(mod_expr, Int(27))\n",
    "qm.check(a2)"
   ]
  },
  {
   "cell_type": "code",
   "execution_count": 37,
   "metadata": {},
   "outputs": [
    {
     "output_type": "stream",
     "name": "stdout",
     "text": [
      "Question: Rewrite the expression '3 * r' in '21 + (3 * r)' for r = 3\nAnswer: 21 + 9\nCorrect!\n\nNext Question: Rewrite the expression '21 + 9' in '21 + 9'\n"
     ]
    }
   ],
   "source": [
    "mod_expr = expr.substitute(Var(\"r\"), Int(3)).rewrite_subexpression(Times(Int(3), Int(3)), Int(9))\n",
    "qm.check(mod_expr)"
   ]
  },
  {
   "cell_type": "code",
   "execution_count": 38,
   "metadata": {},
   "outputs": [
    {
     "output_type": "stream",
     "name": "stdout",
     "text": [
      "Question: Rewrite the expression '21 + 9' in '21 + 9'\nAnswer: 30\nCorrect!\n\nNext Question: Rewrite the expression '3 * r' in '21 + (3 * r)' for r = 7\n"
     ]
    }
   ],
   "source": [
    "a3 = mod_expr.rewrite_subexpression(mod_expr, Int(30))\n",
    "qm.check(a3)"
   ]
  },
  {
   "cell_type": "code",
   "execution_count": 39,
   "metadata": {},
   "outputs": [
    {
     "output_type": "stream",
     "name": "stdout",
     "text": [
      "Question: Rewrite the expression '3 * r' in '21 + (3 * r)' for r = 7\nAnswer: 21 + 21\nCorrect!\n\nNext Question: Rewrite the expression '21 + 21' in '21 + 21'\n"
     ]
    }
   ],
   "source": [
    "mod_expr = expr.substitute(Var(\"r\"), Int(7)).rewrite_subexpression(Times(Int(3), Int(7)), Int(21))\n",
    "qm.check(mod_expr)"
   ]
  },
  {
   "cell_type": "code",
   "execution_count": 40,
   "metadata": {},
   "outputs": [],
   "source": [
    "def set_mod_expr(n):\n",
    "    return expr.substitute(Var(\"r\"), Int(n)).rewrite_subexpression(Times(Int(3), Int(n)), Int(3 * n))"
   ]
  },
  {
   "cell_type": "code",
   "execution_count": 41,
   "metadata": {},
   "outputs": [
    {
     "output_type": "stream",
     "name": "stdout",
     "text": [
      "Question: Rewrite the expression '21 + 21' in '21 + 21'\nAnswer: 42\nCorrect!\n\nNext Question: Rewrite the expression '3 * r' in '21 + (3 * r)' for r = 20\n"
     ]
    }
   ],
   "source": [
    "a4 = mod_expr.rewrite_subexpression(mod_expr, Int(42))\n",
    "qm.check(a4)"
   ]
  },
  {
   "cell_type": "code",
   "execution_count": 42,
   "metadata": {},
   "outputs": [
    {
     "output_type": "stream",
     "name": "stdout",
     "text": [
      "Question: Rewrite the expression '3 * r' in '21 + (3 * r)' for r = 20\nAnswer: 21 + 60\nCorrect!\n\nNext Question: Rewrite the expression '21 + 60' in '21 + 60'\n"
     ]
    }
   ],
   "source": [
    "mod_expr = set_mod_expr(20)\n",
    "qm.check(mod_expr)"
   ]
  },
  {
   "cell_type": "code",
   "execution_count": 43,
   "metadata": {},
   "outputs": [
    {
     "output_type": "stream",
     "name": "stdout",
     "text": [
      "Question: Rewrite the expression '21 + 60' in '21 + 60'\nAnswer: 81\nCorrect!\n\nNext Question: Rewrite the expression '3 * r' in '21 + (3 * r)' for r = 50\n"
     ]
    }
   ],
   "source": [
    "def rewrite_mod_expr(mod_expr, ans):\n",
    "    return mod_expr.rewrite_subexpression(mod_expr, Int(ans))\n",
    "\n",
    "a5 = rewrite_mod_expr(mod_expr, 81)\n",
    "qm.check(a5)"
   ]
  },
  {
   "cell_type": "code",
   "execution_count": 44,
   "metadata": {},
   "outputs": [
    {
     "output_type": "stream",
     "name": "stdout",
     "text": [
      "Question: Rewrite the expression '3 * r' in '21 + (3 * r)' for r = 50\nAnswer: 21 + 150\nCorrect!\n\nNext Question: Rewrite the expression '21 + 150' in '21 + 150'\n"
     ]
    }
   ],
   "source": [
    "mod_expr = set_mod_expr(50)\n",
    "qm.check(mod_expr)"
   ]
  },
  {
   "cell_type": "code",
   "execution_count": 45,
   "metadata": {},
   "outputs": [
    {
     "output_type": "stream",
     "name": "stdout",
     "text": [
      "Question: Rewrite the expression '21 + 150' in '21 + 150'\nAnswer: 171\nCorrect!\n\nNext Question: Make a dictionary of '21 + (3 * r)' for r = 1, 2, 3, 7, 20, and 50\n"
     ]
    }
   ],
   "source": [
    "a6 = rewrite_mod_expr(mod_expr, 171)\n",
    "qm.check(a6)"
   ]
  },
  {
   "cell_type": "code",
   "execution_count": 47,
   "metadata": {},
   "outputs": [
    {
     "output_type": "stream",
     "name": "stdout",
     "text": [
      "Question: Make a dictionary of '21 + (3 * r)' for r = 1, 2, 3, 7, 20, and 50\nAnswer: {1: 24, 2: 27, 3: 30, 7: 42, 20: 81, 50: 171}\nCorrect!\n\nNext Question: Rewrite the expression '45 - w' in '2 * (45 - w)' for w = 1\n"
     ]
    }
   ],
   "source": [
    "qm.check({\n",
    "    Int(1): a1,\n",
    "    Int(2): a2,\n",
    "    Int(3): a3,\n",
    "    Int(7): a4,\n",
    "    Int(20): a5,\n",
    "    Int(50): a6\n",
    "})"
   ]
  },
  {
   "cell_type": "code",
   "execution_count": null,
   "metadata": {},
   "outputs": [],
   "source": []
  }
 ]
}