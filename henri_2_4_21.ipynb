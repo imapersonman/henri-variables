{
 "metadata": {
  "language_info": {
   "codemirror_mode": {
    "name": "ipython",
    "version": 3
   },
   "file_extension": ".py",
   "mimetype": "text/x-python",
   "name": "python",
   "nbconvert_exporter": "python",
   "pygments_lexer": "ipython3",
   "version": "3.8.5-final"
  },
  "orig_nbformat": 2,
  "kernelspec": {
   "name": "python3",
   "display_name": "Python 3.8.5 64-bit",
   "metadata": {
    "interpreter": {
     "hash": "082e9a3bcad0a290d0001e938aa60b99250c6c2ef33a923c00b70f9826caf4b7"
    }
   }
  }
 },
 "nbformat": 4,
 "nbformat_minor": 2,
 "cells": [
  {
   "cell_type": "code",
   "execution_count": 1,
   "metadata": {},
   "outputs": [],
   "source": [
    "from henri_2_4_21 import questions\n",
    "from Expression import Int, Plus, Equals, Var"
   ]
  },
  {
   "cell_type": "code",
   "execution_count": 2,
   "metadata": {},
   "outputs": [
    {
     "output_type": "execute_result",
     "data": {
      "text/plain": [
       "How do you write '1 = 1' using Equals?"
      ]
     },
     "metadata": {},
     "execution_count": 2
    }
   ],
   "source": [
    "questions[0]"
   ]
  },
  {
   "cell_type": "code",
   "execution_count": 3,
   "metadata": {},
   "outputs": [
    {
     "output_type": "execute_result",
     "data": {
      "text/plain": [
       "[How do you write '1 = 1' using Equals?,\n",
       " Is 1 = 1 True or False?,\n",
       " How do you write '(1 + 2) + 3 = 1 + (2 + 3)' using Equals?,\n",
       " Is (1 + 2) + 3 = 1 + (2 + 3) True or False?,\n",
       " How do you write 'x' using Var?,\n",
       " How do you write 'y' using Var?,\n",
       " How do you write 'y = x + 19' using Var?,\n",
       " If a = 1, what is another way of writing 'a'?,\n",
       " If a = 1, what is another way of writing 'b'?,\n",
       " If x = 3, what is another way of writing 'x + y?',\n",
       " Use substitute to make '11 + a = 17' True,\n",
       " Use substitute to make '30 + 50 = x' True]"
      ]
     },
     "metadata": {},
     "execution_count": 3
    }
   ],
   "source": [
    "questions"
   ]
  },
  {
   "cell_type": "code",
   "execution_count": 4,
   "metadata": {},
   "outputs": [
    {
     "output_type": "execute_result",
     "data": {
      "text/plain": [
       "Use substitute to make '11 + a = 17' True"
      ]
     },
     "metadata": {},
     "execution_count": 4
    }
   ],
   "source": [
    "questions[10]"
   ]
  },
  {
   "cell_type": "code",
   "execution_count": 5,
   "metadata": {},
   "outputs": [],
   "source": [
    "expr = Equals(Plus(Int(11), Var(\"a\")), Int(17))"
   ]
  },
  {
   "cell_type": "code",
   "execution_count": 6,
   "metadata": {},
   "outputs": [
    {
     "output_type": "execute_result",
     "data": {
      "text/plain": [
       "11 + a = 17"
      ]
     },
     "metadata": {},
     "execution_count": 6
    }
   ],
   "source": [
    "expr"
   ]
  },
  {
   "cell_type": "code",
   "execution_count": 7,
   "metadata": {},
   "outputs": [
    {
     "output_type": "execute_result",
     "data": {
      "text/plain": [
       "Use substitute to make '30 + 50 = x' True"
      ]
     },
     "metadata": {},
     "execution_count": 7
    }
   ],
   "source": [
    "questions[11]"
   ]
  },
  {
   "cell_type": "code",
   "execution_count": 8,
   "metadata": {},
   "outputs": [
    {
     "output_type": "execute_result",
     "data": {
      "text/plain": [
       "Use substitute to make '11 + a = 17' True"
      ]
     },
     "metadata": {},
     "execution_count": 8
    }
   ],
   "source": [
    "questions[10]"
   ]
  },
  {
   "cell_type": "code",
   "execution_count": 9,
   "metadata": {},
   "outputs": [
    {
     "output_type": "execute_result",
     "data": {
      "text/plain": [
       "11 + 6 = 17"
      ]
     },
     "metadata": {},
     "execution_count": 9
    }
   ],
   "source": [
    "expr.substitute(Var(\"a\"), Int(6))"
   ]
  },
  {
   "cell_type": "code",
   "execution_count": null,
   "metadata": {},
   "outputs": [],
   "source": []
  }
 ]
}