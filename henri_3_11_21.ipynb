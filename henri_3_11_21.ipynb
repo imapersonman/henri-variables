{
 "metadata": {
  "language_info": {
   "codemirror_mode": {
    "name": "ipython",
    "version": 3
   },
   "file_extension": ".py",
   "mimetype": "text/x-python",
   "name": "python",
   "nbconvert_exporter": "python",
   "pygments_lexer": "ipython3",
   "version": "3.8.5-final"
  },
  "orig_nbformat": 2,
  "kernelspec": {
   "name": "python3",
   "display_name": "Python 3.8.5 64-bit",
   "metadata": {
    "interpreter": {
     "hash": "082e9a3bcad0a290d0001e938aa60b99250c6c2ef33a923c00b70f9826caf4b7"
    }
   }
  }
 },
 "nbformat": 4,
 "nbformat_minor": 2,
 "cells": [
  {
   "cell_type": "code",
   "execution_count": 1,
   "metadata": {},
   "outputs": [],
   "source": [
    "from henri_3_11_21 import documentation, questions\n",
    "from QuestionMachine import QuestionMachine\n",
    "from Expression import Int, Plus, Equals, Var, Minus, Times, Negative"
   ]
  },
  {
   "cell_type": "code",
   "execution_count": 2,
   "metadata": {},
   "outputs": [],
   "source": [
    "qm = QuestionMachine(questions)"
   ]
  },
  {
   "cell_type": "code",
   "execution_count": 3,
   "metadata": {},
   "outputs": [
    {
     "output_type": "execute_result",
     "data": {
      "text/plain": [
       "Convert the expression '1 * (2 * (3 * 4))' to '((1 * 2) * 3) * 4'"
      ]
     },
     "metadata": {},
     "execution_count": 3
    }
   ],
   "source": [
    "qm.ask()"
   ]
  },
  {
   "cell_type": "code",
   "execution_count": 4,
   "metadata": {},
   "outputs": [],
   "source": [
    "expr = Times(Int(1), Times(Int(2), Times(Int(3), Int(4))))"
   ]
  },
  {
   "cell_type": "code",
   "execution_count": 5,
   "metadata": {},
   "outputs": [
    {
     "output_type": "execute_result",
     "data": {
      "text/plain": [
       "1 * (2 * (3 * 4))"
      ]
     },
     "metadata": {},
     "execution_count": 5
    }
   ],
   "source": [
    "expr"
   ]
  },
  {
   "cell_type": "code",
   "execution_count": 6,
   "metadata": {},
   "outputs": [
    {
     "output_type": "stream",
     "name": "stdout",
     "text": [
      "Question: Convert the expression '1 * (2 * (3 * 4))' to '((1 * 2) * 3) * 4'\nAnswer: ((1 * 2) * 3) * 4\nCorrect!\n\nNext Question: Convert the expression '5 + 6' to '6 + 5'\n"
     ]
    }
   ],
   "source": [
    "sub_expr = Times(Int(2), Times(Int(3), Int(4)))\n",
    "sub_expr2 = Times(Int(1), Times(Int(2), Int(3)))\n",
    "qm.check(expr.rewrite_subexpression(sub_expr, sub_expr.associate_r_to_l()).associate_r_to_l().rewrite_subexpression(sub_expr2, sub_expr2.associate_r_to_l()))"
   ]
  },
  {
   "cell_type": "code",
   "execution_count": 7,
   "metadata": {},
   "outputs": [
    {
     "output_type": "stream",
     "name": "stdout",
     "text": [
      "Question: Convert the expression '5 + 6' to '6 + 5'\nAnswer: 6 + 5\nCorrect!\n\nNext Question: Convert the expression '(2 + 3) + 1' to '1 + (2 + 3)'\n"
     ]
    }
   ],
   "source": [
    "expr = Plus(Int(5), Int(6))\n",
    "qm.check(expr.commute())"
   ]
  },
  {
   "cell_type": "code",
   "execution_count": 8,
   "metadata": {},
   "outputs": [
    {
     "output_type": "stream",
     "name": "stdout",
     "text": [
      "Question: Convert the expression '(2 + 3) + 1' to '1 + (2 + 3)'\nAnswer: 1 + (2 + 3)\nCorrect!\n\nNext Question: Convert the expression '(2 + 3) + 1' to '(3 + 2) + 1'\n"
     ]
    }
   ],
   "source": [
    "expr = Plus(Plus(Int(2), Int(3)), Int(1))\n",
    "qm.check(expr.commute())"
   ]
  },
  {
   "cell_type": "code",
   "execution_count": 9,
   "metadata": {},
   "outputs": [
    {
     "output_type": "execute_result",
     "data": {
      "text/plain": [
       "(2 + 3) + 1"
      ]
     },
     "metadata": {},
     "execution_count": 9
    }
   ],
   "source": [
    "expr = Plus(Plus(Int(2), Int(3)), Int(1))\n",
    "expr"
   ]
  },
  {
   "cell_type": "code",
   "execution_count": 10,
   "metadata": {},
   "outputs": [
    {
     "output_type": "stream",
     "name": "stdout",
     "text": [
      "Question: Convert the expression '(2 + 3) + 1' to '(3 + 2) + 1'\nAnswer: (3 + 2) + 1\nCorrect!\n\nNext Question: Convert the expression '-1 + 2' to '2 - 1'\n"
     ]
    }
   ],
   "source": [
    "sub_expr = Plus(Int(2), Int(3))\n",
    "qm.check(expr.rewrite_subexpression(sub_expr, sub_expr.commute()))"
   ]
  },
  {
   "source": [
    "expr = Plus(Negative(Int(1)), Int(2))\n",
    "qm.check(expr.commute().pos_neg_to_minus())"
   ],
   "cell_type": "code",
   "metadata": {},
   "execution_count": 11,
   "outputs": [
    {
     "output_type": "stream",
     "name": "stdout",
     "text": [
      "Question: Convert the expression '-1 + 2' to '2 - 1'\nAnswer: 2 - 1\nCorrect!\n\nNext Question: Convert the expression '(1 - 3) - 2' to '(1 - 2) - 3'\n"
     ]
    }
   ]
  },
  {
   "cell_type": "code",
   "execution_count": 12,
   "metadata": {},
   "outputs": [
    {
     "output_type": "stream",
     "name": "stdout",
     "text": [
      "Question: Convert the expression '(1 - 3) - 2' to '(1 - 2) - 3'\nAnswer: (1 - 2) - 3\nCorrect!\n\nNext Question: Convert the expression '1 + (2 + 3)' to '3 + (2 + 1)'\n"
     ]
    }
   ],
   "source": [
    "expr = Minus(Minus(Int(1), Int(3)), Int(2))\n",
    "sub_expr = Plus(Negative(Int(3)), Negative(Int(2)))\n",
    "qm.check(expr.to_pos_neg().associate_l_to_r().rewrite_subexpression(sub_expr, sub_expr.commute()).associate_r_to_l().pos_neg_to_minus())"
   ]
  },
  {
   "cell_type": "code",
   "execution_count": 13,
   "metadata": {},
   "outputs": [
    {
     "output_type": "stream",
     "name": "stdout",
     "text": [
      "Question: Convert the expression '1 + (2 + 3)' to '3 + (2 + 1)'\nAnswer: 3 + (2 + 1)\nCorrect!\n\nNext Question: Convert the expression '(-3 - 2) - 1' to '(-1 - 2) - 3'\n"
     ]
    }
   ],
   "source": [
    "expr = Plus(Int(1), Plus(Int(2), Int(3)))\n",
    "sub_expr = Plus(Int(2), Int(3))\n",
    "qm.check(expr.commute().rewrite_subexpression(sub_expr, sub_expr.commute()).associate_l_to_r())"
   ]
  },
  {
   "cell_type": "code",
   "execution_count": 14,
   "metadata": {},
   "outputs": [
    {
     "output_type": "stream",
     "name": "stdout",
     "text": [
      "Question: Convert the expression '(-3 - 2) - 1' to '(-1 - 2) - 3'\nAnswer: (-1 - 2) - 3\nCorrect!\n\nNext Question: Convert the expression '1 + (2 + (3 + 4))' to '4 + (3 + (2 + 1))'\n"
     ]
    }
   ],
   "source": [
    "expr = Minus(Minus(Negative(Int(3)), Int(2)), Int(1))\n",
    "sub_expr = Plus(Negative(Int(3)), Negative(Int(2)))\n",
    "qm.check(expr.to_pos_neg().commute().rewrite_subexpression(sub_expr, sub_expr.commute()).associate_r_to_l().pos_neg_to_minus())"
   ]
  },
  {
   "cell_type": "code",
   "execution_count": 25,
   "metadata": {},
   "outputs": [
    {
     "output_type": "stream",
     "name": "stdout",
     "text": [
      "Question: Convert the expression '1 + (2 + (3 + 4))' to '4 + (3 + (2 + 1))'\nAnswer: 4 + (3 + (2 + 1))\nCorrect!\n\nNext Question: None!  You're Finished!\n"
     ]
    }
   ],
   "source": [
    "expr = Plus(Int(1), Plus(Int(2), Plus(Int(3), Int(4))))\n",
    "sub_expr1 = Plus(Int(2), Plus(Int(3), Int(4)))\n",
    "sub_expr2 = Plus(Int(3), Int(4))\n",
    "sub_expr3 = Plus(Plus(Int(4), Int(3)), Int(2))\n",
    "sub_expr4 = Plus(Plus(Int(3), Int(2)), Int(1))\n",
    "qm.check(expr.commute().rewrite_subexpression(sub_expr1, sub_expr1.commute()).rewrite_subexpression(sub_expr2, sub_expr2.commute()).rewrite_subexpression(sub_expr3, sub_expr3.associate_l_to_r()).associate_l_to_r().rewrite_subexpression(sub_expr4, sub_expr4.associate_l_to_r()))"
   ]
  },
  {
   "cell_type": "code",
   "execution_count": 16,
   "metadata": {},
   "outputs": [
    {
     "output_type": "execute_result",
     "data": {
      "text/plain": [
       "(2 + (3 + 4)) + 1"
      ]
     },
     "metadata": {},
     "execution_count": 16
    }
   ],
   "source": [
    "expr.commute()"
   ]
  },
  {
   "cell_type": "code",
   "execution_count": null,
   "metadata": {},
   "outputs": [],
   "source": []
  }
 ]
}