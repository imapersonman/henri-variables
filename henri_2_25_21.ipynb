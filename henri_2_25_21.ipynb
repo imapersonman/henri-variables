{
 "metadata": {
  "language_info": {
   "codemirror_mode": {
    "name": "ipython",
    "version": 3
   },
   "file_extension": ".py",
   "mimetype": "text/x-python",
   "name": "python",
   "nbconvert_exporter": "python",
   "pygments_lexer": "ipython3",
   "version": "3.8.5-final"
  },
  "orig_nbformat": 2,
  "kernelspec": {
   "name": "python3",
   "display_name": "Python 3.8.5 64-bit",
   "metadata": {
    "interpreter": {
     "hash": "082e9a3bcad0a290d0001e938aa60b99250c6c2ef33a923c00b70f9826caf4b7"
    }
   }
  }
 },
 "nbformat": 4,
 "nbformat_minor": 2,
 "cells": [
  {
   "cell_type": "code",
   "execution_count": 1,
   "metadata": {},
   "outputs": [],
   "source": [
    "from henri_2_25_21 import questions\n",
    "from Expression import Var, Int, Plus, Minus, Equals, Times\n",
    "from QuestionMachine import QuestionMachine"
   ]
  },
  {
   "cell_type": "code",
   "execution_count": 2,
   "metadata": {},
   "outputs": [],
   "source": [
    "qm = QuestionMachine(questions)"
   ]
  },
  {
   "cell_type": "code",
   "execution_count": 3,
   "metadata": {},
   "outputs": [
    {
     "output_type": "execute_result",
     "data": {
      "text/plain": [
       "Rewrite the expression '3 * r' in '21 + (3 * r)' for r = 1"
      ]
     },
     "metadata": {},
     "execution_count": 3
    }
   ],
   "source": [
    "qm.ask()"
   ]
  },
  {
   "cell_type": "code",
   "execution_count": 14,
   "metadata": {},
   "outputs": [],
   "source": [
    "whole = Plus(Int(21), Times(Int(3), Var(\"r\")))"
   ]
  },
  {
   "cell_type": "code",
   "execution_count": 15,
   "metadata": {},
   "outputs": [
    {
     "output_type": "execute_result",
     "data": {
      "text/plain": [
       "21 + (3 * 1)"
      ]
     },
     "metadata": {},
     "execution_count": 15
    }
   ],
   "source": [
    "subbed_whole = whole.substitute(Var(\"r\"), Int(1))\n",
    "subbed_whole"
   ]
  },
  {
   "cell_type": "code",
   "execution_count": 16,
   "metadata": {},
   "outputs": [
    {
     "output_type": "execute_result",
     "data": {
      "text/plain": [
       "21 + 3"
      ]
     },
     "metadata": {},
     "execution_count": 16
    }
   ],
   "source": [
    "rewritten1_whole = subbed_whole.rewrite_subexpression(Times(Int(3), Int(1)), Int(3))\n",
    "rewritten1_whole"
   ]
  },
  {
   "cell_type": "code",
   "execution_count": 17,
   "metadata": {},
   "outputs": [],
   "source": [
    "rewritten2_whole = rewritten1_whole.rewrite_subexpression(Times(Int(21), Int(3)), Int(24))"
   ]
  },
  {
   "cell_type": "code",
   "execution_count": 18,
   "metadata": {},
   "outputs": [
    {
     "output_type": "stream",
     "name": "stdout",
     "text": [
      "Question: Rewrite the expression '3 * r' in '21 + (3 * r)' for r = 1\nAnswer: 21 + 3\nCorrect!\n\nNext Question: Rewrite the expression '21 + 3' in '21 + 3'\n"
     ]
    }
   ],
   "source": [
    "qm.check(rewritten2_whole)"
   ]
  },
  {
   "cell_type": "code",
   "execution_count": null,
   "metadata": {},
   "outputs": [],
   "source": []
  }
 ]
}