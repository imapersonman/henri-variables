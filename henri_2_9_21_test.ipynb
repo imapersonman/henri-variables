{
 "metadata": {
  "language_info": {
   "codemirror_mode": {
    "name": "ipython",
    "version": 3
   },
   "file_extension": ".py",
   "mimetype": "text/x-python",
   "name": "python",
   "nbconvert_exporter": "python",
   "pygments_lexer": "ipython3",
   "version": "3.8.5-final"
  },
  "orig_nbformat": 2,
  "kernelspec": {
   "name": "python3",
   "display_name": "Python 3.8.5 64-bit",
   "metadata": {
    "interpreter": {
     "hash": "082e9a3bcad0a290d0001e938aa60b99250c6c2ef33a923c00b70f9826caf4b7"
    }
   }
  }
 },
 "nbformat": 4,
 "nbformat_minor": 2,
 "cells": [
  {
   "cell_type": "code",
   "execution_count": 1,
   "metadata": {},
   "outputs": [],
   "source": [
    "from henri_2_9_21 import questions, QuestionMachine\n",
    "from Expression import Int, Var, Plus, Minus, Equals"
   ]
  },
  {
   "cell_type": "code",
   "execution_count": 2,
   "metadata": {},
   "outputs": [],
   "source": [
    "qm = QuestionMachine(questions)"
   ]
  },
  {
   "cell_type": "code",
   "execution_count": 3,
   "metadata": {},
   "outputs": [
    {
     "output_type": "execute_result",
     "data": {
      "text/plain": [
       "If a = 1, what is another way of writing 'b'?"
      ]
     },
     "metadata": {},
     "execution_count": 3
    }
   ],
   "source": [
    "qm.ask()"
   ]
  },
  {
   "cell_type": "code",
   "execution_count": 4,
   "metadata": {},
   "outputs": [
    {
     "output_type": "stream",
     "name": "stdout",
     "text": [
      "Question: If a = 1, what is another way of writing 'b'?\nAnswer: b\nCorrect!\n"
     ]
    }
   ],
   "source": [
    "qm.answer(Var(\"b\"))"
   ]
  },
  {
   "cell_type": "code",
   "execution_count": 5,
   "metadata": {},
   "outputs": [
    {
     "output_type": "execute_result",
     "data": {
      "text/plain": [
       "If x = 3, what is another way of writing 'x + y?'"
      ]
     },
     "metadata": {},
     "execution_count": 5
    }
   ],
   "source": [
    "qm.ask()"
   ]
  },
  {
   "cell_type": "code",
   "execution_count": 6,
   "metadata": {},
   "outputs": [
    {
     "output_type": "stream",
     "name": "stdout",
     "text": [
      "Question: If x = 3, what is another way of writing 'x + y?'\nAnswer: 3 + y\nCorrect!\n"
     ]
    }
   ],
   "source": [
    "qm.answer(Plus(Int(3), Var(\"y\")))"
   ]
  },
  {
   "cell_type": "code",
   "execution_count": 7,
   "metadata": {},
   "outputs": [
    {
     "output_type": "execute_result",
     "data": {
      "text/plain": [
       "Use substitute to make '11 + a = 17' True // copy-paste Equals(Plus(Int(11), Var(\"a\")), Int(17))"
      ]
     },
     "metadata": {},
     "execution_count": 7
    }
   ],
   "source": [
    "qm.ask()"
   ]
  },
  {
   "cell_type": "code",
   "execution_count": 8,
   "metadata": {},
   "outputs": [
    {
     "output_type": "execute_result",
     "data": {
      "text/plain": [
       "Use substitute to make '11 + a = 17' True // copy-paste Equals(Plus(Int(11), Var(\"a\")), Int(17))"
      ]
     },
     "metadata": {},
     "execution_count": 8
    }
   ],
   "source": [
    "qm.ask()"
   ]
  },
  {
   "cell_type": "code",
   "execution_count": 9,
   "metadata": {},
   "outputs": [
    {
     "output_type": "stream",
     "name": "stdout",
     "text": [
      "Question: Use substitute to make '11 + a = 17' True // copy-paste Equals(Plus(Int(11), Var(\"a\")), Int(17))\nAnswer: 11 + 6 = 17\nCorrect!\n"
     ]
    }
   ],
   "source": [
    "qm.answer(Equals(Plus(Int(11), Var(\"a\")), Int(17)).substitute(Var(\"a\"), Int(6)))"
   ]
  },
  {
   "cell_type": "code",
   "execution_count": 10,
   "metadata": {},
   "outputs": [
    {
     "output_type": "execute_result",
     "data": {
      "text/plain": [
       "Use substitute and Minus to make '44 - b = 20' True // copy-paste Equals(Minus(Int(44), Var(\"b\")), Int(20))"
      ]
     },
     "metadata": {},
     "execution_count": 10
    }
   ],
   "source": [
    "qm.ask()"
   ]
  },
  {
   "cell_type": "code",
   "execution_count": 11,
   "metadata": {},
   "outputs": [
    {
     "output_type": "stream",
     "name": "stdout",
     "text": [
      "Question: Use substitute and Minus to make '44 - b = 20' True // copy-paste Equals(Minus(Int(44), Var(\"b\")), Int(20))\nAnswer: 44 - 24 = 20\nCorrect!\n"
     ]
    }
   ],
   "source": [
    "qm.answer(Equals(Minus(Int(44), Var(\"b\")), Int(20)).substitute(Var(\"b\"), Int(24)))"
   ]
  },
  {
   "cell_type": "code",
   "execution_count": 12,
   "metadata": {},
   "outputs": [
    {
     "output_type": "execute_result",
     "data": {
      "text/plain": [
       "Use substitute to make '30 + 50 = x' True // copy-paste Equals(Plus(Int(30), Int(50)), Var(\"x\"))"
      ]
     },
     "metadata": {},
     "execution_count": 12
    }
   ],
   "source": [
    "qm.ask()"
   ]
  },
  {
   "cell_type": "code",
   "execution_count": 13,
   "metadata": {},
   "outputs": [
    {
     "output_type": "stream",
     "name": "stdout",
     "text": [
      "Question: Use substitute to make '30 + 50 = x' True // copy-paste Equals(Plus(Int(30), Int(50)), Var(\"x\"))\nAnswer: 30 + 50 = 80\nCorrect!\n"
     ]
    }
   ],
   "source": [
    "qm.answer(Equals(Plus(Int(30), Int(50)), Var(\"x\")).substitute(Var(\"x\"), Int(80)))"
   ]
  },
  {
   "cell_type": "code",
   "execution_count": 14,
   "metadata": {},
   "outputs": [
    {
     "output_type": "execute_result",
     "data": {
      "text/plain": [
       "Use substitute to make 'y - 7 = 33' True // copy-paste Equals(Minus(Var(\"y\"), Int(7)), Int(33))"
      ]
     },
     "metadata": {},
     "execution_count": 14
    }
   ],
   "source": [
    "qm.ask()"
   ]
  },
  {
   "cell_type": "code",
   "execution_count": 15,
   "metadata": {},
   "outputs": [
    {
     "output_type": "stream",
     "name": "stdout",
     "text": [
      "Question: Use substitute to make 'y - 7 = 33' True // copy-paste Equals(Minus(Var(\"y\"), Int(7)), Int(33))\nAnswer: 40 - 7 = 33\nCorrect!\n"
     ]
    }
   ],
   "source": [
    "qm.answer(Equals(Minus(Var(\"y\"), Int(7)), Int(33)).substitute(Var(\"y\"), Int(40)))"
   ]
  },
  {
   "cell_type": "code",
   "execution_count": 16,
   "metadata": {},
   "outputs": [
    {
     "output_type": "execute_result",
     "data": {
      "text/plain": [
       "Use substitute to make 'n + 50 = 140' True // copy-paste Equals(Plus(Var(\"n\"), Int(50)), Int(140))"
      ]
     },
     "metadata": {},
     "execution_count": 16
    }
   ],
   "source": [
    "qm.ask()"
   ]
  },
  {
   "cell_type": "code",
   "execution_count": 17,
   "metadata": {},
   "outputs": [
    {
     "output_type": "stream",
     "name": "stdout",
     "text": [
      "Question: Use substitute to make 'n + 50 = 140' True // copy-paste Equals(Plus(Var(\"n\"), Int(50)), Int(140))\nAnswer: 90 + 50 = 140\nCorrect!\n"
     ]
    }
   ],
   "source": [
    "qm.answer(Equals(Plus(Var(\"n\"), Int(50)), Int(140)).substitute(Var(\"n\"), Int(90)))"
   ]
  },
  {
   "cell_type": "code",
   "execution_count": 18,
   "metadata": {},
   "outputs": [
    {
     "output_type": "execute_result",
     "data": {
      "text/plain": [
       "Use substitute to make '11 + m = 31' True // copy-paste Equals(Plus(Int(11), Var(\"m\")), Int(31))"
      ]
     },
     "metadata": {},
     "execution_count": 18
    }
   ],
   "source": [
    "qm.ask()"
   ]
  },
  {
   "cell_type": "code",
   "execution_count": 19,
   "metadata": {},
   "outputs": [
    {
     "output_type": "stream",
     "name": "stdout",
     "text": [
      "Question: Use substitute to make '11 + m = 31' True // copy-paste Equals(Plus(Int(11), Var(\"m\")), Int(31))\nAnswer: 11 + 20 = 31\nCorrect!\n"
     ]
    }
   ],
   "source": [
    "qm.answer(Equals(Plus(Int(11), Var(\"m\")), Int(31)).substitute(Var(\"m\"), Int(20)))"
   ]
  },
  {
   "cell_type": "code",
   "execution_count": 20,
   "metadata": {},
   "outputs": [
    {
     "output_type": "execute_result",
     "data": {
      "text/plain": [
       "Use substitute to make 'p - 7 = 23' True // copy-paste Equals(Minus(Var(\"p\"), Int(7)), Int(23))"
      ]
     },
     "metadata": {},
     "execution_count": 20
    }
   ],
   "source": [
    "qm.ask()"
   ]
  },
  {
   "cell_type": "code",
   "execution_count": 22,
   "metadata": {},
   "outputs": [
    {
     "output_type": "stream",
     "name": "stdout",
     "text": [
      "Question: Use substitute to make 'p - 7 = 23' True // copy-paste Equals(Minus(Var(\"p\"), Int(7)), Int(23))\nAnswer: 30 - 7 = 23\nCorrect!\n"
     ]
    }
   ],
   "source": [
    "qm.answer(Equals(Minus(Var(\"p\"), Int(7)), Int(23)).substitute(Var(\"p\"), Int(30)))"
   ]
  },
  {
   "cell_type": "code",
   "execution_count": 23,
   "metadata": {},
   "outputs": [
    {
     "output_type": "execute_result",
     "data": {
      "text/plain": [
       "Use substitute to make '70 - n = 20' True // copy-paste Equals(Minus(Int(70), Var(\"n\")), Int(20))"
      ]
     },
     "metadata": {},
     "execution_count": 23
    }
   ],
   "source": [
    "qm.ask()"
   ]
  },
  {
   "cell_type": "code",
   "execution_count": 25,
   "metadata": {},
   "outputs": [
    {
     "output_type": "stream",
     "name": "stdout",
     "text": [
      "Question: Use substitute to make '70 - n = 20' True // copy-paste Equals(Minus(Int(70), Var(\"n\")), Int(20))\nAnswer: 70 - 50 = 20\nCorrect!\n"
     ]
    }
   ],
   "source": [
    "qm.answer(Equals(Minus(Int(70), Var(\"n\")), Int(20)).substitute(Var(\"n\"), Int(50)))"
   ]
  },
  {
   "cell_type": "code",
   "execution_count": 26,
   "metadata": {},
   "outputs": [
    {
     "output_type": "error",
     "ename": "IndexError",
     "evalue": "list index out of range",
     "traceback": [
      "\u001b[0;31m---------------------------------------------------------------------------\u001b[0m",
      "\u001b[0;31mIndexError\u001b[0m                                Traceback (most recent call last)",
      "\u001b[0;32m<ipython-input-26-9fca1df7bdde>\u001b[0m in \u001b[0;36m<module>\u001b[0;34m\u001b[0m\n\u001b[0;32m----> 1\u001b[0;31m \u001b[0mqm\u001b[0m\u001b[0;34m.\u001b[0m\u001b[0mask\u001b[0m\u001b[0;34m(\u001b[0m\u001b[0;34m)\u001b[0m\u001b[0;34m\u001b[0m\u001b[0;34m\u001b[0m\u001b[0m\n\u001b[0m",
      "\u001b[0;32m~/Desktop/Tutoring/CS/beastacademy/henri_2_9_21.py\u001b[0m in \u001b[0;36mask\u001b[0;34m(self)\u001b[0m\n\u001b[1;32m     26\u001b[0m         \u001b[0;32mif\u001b[0m \u001b[0mself\u001b[0m\u001b[0;34m.\u001b[0m\u001b[0mcurrent_index\u001b[0m \u001b[0;34m>\u001b[0m \u001b[0mlen\u001b[0m\u001b[0;34m(\u001b[0m\u001b[0mself\u001b[0m\u001b[0;34m.\u001b[0m\u001b[0mquestions\u001b[0m\u001b[0;34m)\u001b[0m\u001b[0;34m:\u001b[0m\u001b[0;34m\u001b[0m\u001b[0;34m\u001b[0m\u001b[0m\n\u001b[1;32m     27\u001b[0m             \u001b[0;32mreturn\u001b[0m \u001b[0;34m\"You're done! Congratulations!\"\u001b[0m\u001b[0;34m\u001b[0m\u001b[0;34m\u001b[0m\u001b[0m\n\u001b[0;32m---> 28\u001b[0;31m         \u001b[0;32mreturn\u001b[0m \u001b[0mself\u001b[0m\u001b[0;34m.\u001b[0m\u001b[0mquestions\u001b[0m\u001b[0;34m[\u001b[0m\u001b[0mself\u001b[0m\u001b[0;34m.\u001b[0m\u001b[0mcurrent_index\u001b[0m\u001b[0;34m]\u001b[0m\u001b[0;34m\u001b[0m\u001b[0;34m\u001b[0m\u001b[0m\n\u001b[0m\u001b[1;32m     29\u001b[0m \u001b[0;34m\u001b[0m\u001b[0m\n\u001b[1;32m     30\u001b[0m     \u001b[0;32mdef\u001b[0m \u001b[0manswer\u001b[0m\u001b[0;34m(\u001b[0m\u001b[0mself\u001b[0m\u001b[0;34m,\u001b[0m \u001b[0manswer\u001b[0m\u001b[0;34m)\u001b[0m\u001b[0;34m:\u001b[0m\u001b[0;34m\u001b[0m\u001b[0;34m\u001b[0m\u001b[0m\n",
      "\u001b[0;31mIndexError\u001b[0m: list index out of range"
     ]
    }
   ],
   "source": [
    "qm.ask()"
   ]
  },
  {
   "cell_type": "code",
   "execution_count": null,
   "metadata": {},
   "outputs": [],
   "source": []
  }
 ]
}